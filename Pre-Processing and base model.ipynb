{
 "cells": [
  {
   "cell_type": "code",
   "execution_count": 1,
   "id": "d528ecce",
   "metadata": {},
   "outputs": [
    {
     "name": "stderr",
     "output_type": "stream",
     "text": [
      "[nltk_data] Downloading package stopwords to\n",
      "[nltk_data]     C:\\Users\\Dell\\AppData\\Roaming\\nltk_data...\n",
      "[nltk_data]   Package stopwords is already up-to-date!\n",
      "[nltk_data] Downloading package wordnet to\n",
      "[nltk_data]     C:\\Users\\Dell\\AppData\\Roaming\\nltk_data...\n",
      "[nltk_data]   Package wordnet is already up-to-date!\n"
     ]
    },
    {
     "data": {
      "text/plain": [
       "True"
      ]
     },
     "execution_count": 1,
     "metadata": {},
     "output_type": "execute_result"
    }
   ],
   "source": [
    "import pandas as pd\n",
    "import numpy as np\n",
    "import nltk\n",
    "import re\n",
    "from nltk.corpus import stopwords\n",
    "from nltk.stem import WordNetLemmatizer\n",
    "from nltk.tokenize import word_tokenize\n",
    "nltk.download('stopwords')\n",
    "nltk.download('wordnet')"
   ]
  },
  {
   "cell_type": "code",
   "execution_count": 2,
   "id": "06d16a52",
   "metadata": {},
   "outputs": [],
   "source": [
    "df = pd.read_csv(\"Data/SkinCare-product.csv\")"
   ]
  },
  {
   "cell_type": "code",
   "execution_count": 3,
   "id": "945e12c5",
   "metadata": {},
   "outputs": [],
   "source": [
    "df = df[~df['title'].isnull()]"
   ]
  },
  {
   "cell_type": "code",
   "execution_count": 4,
   "id": "213c6ed6",
   "metadata": {},
   "outputs": [],
   "source": [
    "df_drugs = pd.read_csv(\"Data/drugs.csv\")"
   ]
  },
  {
   "cell_type": "code",
   "execution_count": 5,
   "id": "dec5ee9f",
   "metadata": {},
   "outputs": [],
   "source": [
    "def tokenize_text(text):\n",
    "    return word_tokenize(text)\n",
    "\n",
    "def lowercase_text(text):\n",
    "    return text.lower()\n",
    "\n",
    "def remove_stopwords(tokens):\n",
    "    stop_words = set(stopwords.words('english'))\n",
    "    return [token for token in tokens if token not in stop_words]\n",
    "\n",
    "def remove_punctuation(text):\n",
    "    return re.sub(r'[^\\w\\s]', '', text)\n",
    "\n",
    "def handle_special_characters(text):\n",
    "    text = re.sub(r'http\\S+|www\\S+', 'URL', text)\n",
    "    text = re.sub(r'#\\w+', 'HASHTAG', text)\n",
    "    text = re.sub(r'[^a-zA-Z0-9\\s]', '', text)\n",
    "    return text\n",
    "\n",
    "def lemmatize_text(tokens):\n",
    "    lemmatizer = WordNetLemmatizer()\n",
    "    return [lemmatizer.lemmatize(token) for token in tokens]\n",
    "\n",
    "def preprocess_text(column):\n",
    "    column = column.apply(lowercase_text)\n",
    "    column = column.apply(handle_special_characters)\n",
    "    column = column.apply(remove_punctuation)\n",
    "    column = column.apply(tokenize_text)\n",
    "    column = column.apply(remove_stopwords)\n",
    "    column = column.apply(lemmatize_text)\n",
    "    return column\n"
   ]
  },
  {
   "cell_type": "code",
   "execution_count": 6,
   "id": "b5d01105",
   "metadata": {},
   "outputs": [],
   "source": [
    "df_processed = pd.DataFrame(columns=df.columns)"
   ]
  },
  {
   "cell_type": "code",
   "execution_count": 7,
   "id": "688de404",
   "metadata": {},
   "outputs": [],
   "source": [
    "df_processed.drop(columns=df_processed.columns[0], inplace=True)"
   ]
  },
  {
   "cell_type": "code",
   "execution_count": 8,
   "id": "d16d639b",
   "metadata": {},
   "outputs": [
    {
     "data": {
      "text/plain": [
       "Index(['_id', 'category', 'link', 'image_url', 'title', 'number_ratings',\n",
       "       'rating_element', 'description', 'price', 'qty', 'highlights'],\n",
       "      dtype='object')"
      ]
     },
     "execution_count": 8,
     "metadata": {},
     "output_type": "execute_result"
    }
   ],
   "source": [
    "df.columns"
   ]
  },
  {
   "cell_type": "code",
   "execution_count": 9,
   "id": "427732bb",
   "metadata": {},
   "outputs": [],
   "source": [
    "df[\"highlights\"]=df[\"highlights\"].fillna(\"\")"
   ]
  },
  {
   "cell_type": "code",
   "execution_count": 10,
   "id": "63606e4d",
   "metadata": {},
   "outputs": [],
   "source": [
    "df[\"description\"]=df[\"description\"].fillna(\"\")"
   ]
  },
  {
   "cell_type": "code",
   "execution_count": 11,
   "id": "b6c42173",
   "metadata": {},
   "outputs": [],
   "source": [
    "df_processed = df.copy()"
   ]
  },
  {
   "cell_type": "code",
   "execution_count": 12,
   "id": "6e4aa9e7",
   "metadata": {},
   "outputs": [],
   "source": [
    "df_processed[\"title\"] = preprocess_text(df[\"title\"])"
   ]
  },
  {
   "cell_type": "code",
   "execution_count": 13,
   "id": "127ec3b7",
   "metadata": {},
   "outputs": [
    {
     "data": {
      "text/plain": [
       "1                                       [acnemoist, cream]\n",
       "4        [foxtale, combo, pack, hydrating, cleanser, 10...\n",
       "8                                          [acnestar, gel]\n",
       "9                                          [acnestar, gel]\n",
       "10                                         [ga, 12, cream]\n",
       "                               ...                        \n",
       "11348                          [balu, herbal, rose, water]\n",
       "11349    [earthy, essential, combo, pack, neem, tea, tr...\n",
       "11350                     [aromamusk, witch, hazel, toner]\n",
       "11351    [parampara, ayurved, rose, water, premium, 290ml]\n",
       "11352      [bio, beauty, astringent, aloe, vera, cucumber]\n",
       "Name: title, Length: 11061, dtype: object"
      ]
     },
     "execution_count": 13,
     "metadata": {},
     "output_type": "execute_result"
    }
   ],
   "source": [
    "df_processed['title']"
   ]
  },
  {
   "cell_type": "code",
   "execution_count": 14,
   "id": "93cb1e93",
   "metadata": {},
   "outputs": [],
   "source": [
    "df_processed[\"highlights\"] = preprocess_text(df[\"highlights\"])"
   ]
  },
  {
   "cell_type": "code",
   "execution_count": 15,
   "id": "15203297",
   "metadata": {},
   "outputs": [
    {
     "data": {
      "text/plain": [
       "1                                                       []\n",
       "4        [combo, pack, useful, hydrating, moisturising,...\n",
       "8        [help, clear, extra, sebum, impuritiesassists,...\n",
       "9        [help, clear, extra, sebum, impuritiesassists,...\n",
       "10       [gentle, formula, clean, skin, remove, excess,...\n",
       "                               ...                        \n",
       "11348    [maintain, ph, balance, nourishes, skin, deepl...\n",
       "11349    [sulphate, freecertified, ifra, perfumecruelty...\n",
       "11350    [beneficial, skinchemical, paraben, alcoholfre...\n",
       "11351    [refreshes, skinmakes, skin, softfree, preserv...\n",
       "11352    [promotes, naturally, fresh, skinsuitable, ski...\n",
       "Name: highlights, Length: 11061, dtype: object"
      ]
     },
     "execution_count": 15,
     "metadata": {},
     "output_type": "execute_result"
    }
   ],
   "source": [
    "df_processed['highlights']"
   ]
  },
  {
   "cell_type": "code",
   "execution_count": 16,
   "id": "fe245624",
   "metadata": {},
   "outputs": [],
   "source": [
    "df_processed[\"description\"] = preprocess_text(df[\"description\"])"
   ]
  },
  {
   "cell_type": "code",
   "execution_count": 17,
   "id": "5bd20b58",
   "metadata": {
    "scrolled": false
   },
   "outputs": [
    {
     "data": {
      "text/plain": [
       "1        [acnemoist, cream, specially, formulated, oil,...\n",
       "4        [foxtale, combo, pack, hydrating, cleanser, 10...\n",
       "8        [acnestar, gel, useful, various, reason, serum...\n",
       "9        [acnestar, gel, useful, various, reason, serum...\n",
       "10       [ga, 12, cream, specialized, oil, free, formul...\n",
       "                               ...                        \n",
       "11348    [balu, herbal, rose, water, excellent, skin, c...\n",
       "11349    [earthy, essential, neem, tea, tree, face, was...\n",
       "11350    [aromamusk, witch, hazel, tonerthis, face, ton...\n",
       "11351    [parampara, ayurved, rose, water, premium, 290...\n",
       "11352    [bio, beauty, astringent, designed, promote, c...\n",
       "Name: description, Length: 11061, dtype: object"
      ]
     },
     "execution_count": 17,
     "metadata": {},
     "output_type": "execute_result"
    }
   ],
   "source": [
    "df_processed[\"description\"]"
   ]
  },
  {
   "cell_type": "code",
   "execution_count": 18,
   "id": "d41be843",
   "metadata": {},
   "outputs": [],
   "source": [
    "df_processed = df_processed[~df_processed['title'].isnull()]"
   ]
  },
  {
   "cell_type": "code",
   "execution_count": 19,
   "id": "4bcf9e03",
   "metadata": {},
   "outputs": [
    {
     "data": {
      "text/html": [
       "<div>\n",
       "<style scoped>\n",
       "    .dataframe tbody tr th:only-of-type {\n",
       "        vertical-align: middle;\n",
       "    }\n",
       "\n",
       "    .dataframe tbody tr th {\n",
       "        vertical-align: top;\n",
       "    }\n",
       "\n",
       "    .dataframe thead th {\n",
       "        text-align: right;\n",
       "    }\n",
       "</style>\n",
       "<table border=\"1\" class=\"dataframe\">\n",
       "  <thead>\n",
       "    <tr style=\"text-align: right;\">\n",
       "      <th></th>\n",
       "      <th>_id</th>\n",
       "      <th>category</th>\n",
       "      <th>link</th>\n",
       "      <th>image_url</th>\n",
       "      <th>title</th>\n",
       "      <th>number_ratings</th>\n",
       "      <th>rating_element</th>\n",
       "      <th>description</th>\n",
       "      <th>price</th>\n",
       "      <th>qty</th>\n",
       "      <th>highlights</th>\n",
       "    </tr>\n",
       "  </thead>\n",
       "  <tbody>\n",
       "    <tr>\n",
       "      <th>1</th>\n",
       "      <td>64ca8452a945cf043782f942</td>\n",
       "      <td>acne-pimples</td>\n",
       "      <td>https://www.1mg.com/otc/acnemoist-cream-otc340541</td>\n",
       "      <td>https://onemg.gumlet.io/l_watermark_346,w_690,...</td>\n",
       "      <td>[acnemoist, cream]</td>\n",
       "      <td>484 Ratings &amp; 110 Reviews</td>\n",
       "      <td>4.4</td>\n",
       "      <td>[acnemoist, cream, specially, formulated, oil,...</td>\n",
       "      <td>₹319</td>\n",
       "      <td>60 gm Cream</td>\n",
       "      <td>[]</td>\n",
       "    </tr>\n",
       "    <tr>\n",
       "      <th>4</th>\n",
       "      <td>64ca8452a945cf043782f945</td>\n",
       "      <td>acne-pimples</td>\n",
       "      <td>https://www.1mg.com/otc/foxtale-combo-pack-of-...</td>\n",
       "      <td>https://onemg.gumlet.io/l_watermark_346,w_690,...</td>\n",
       "      <td>[foxtale, combo, pack, hydrating, cleanser, 10...</td>\n",
       "      <td>NaN</td>\n",
       "      <td>NaN</td>\n",
       "      <td>[foxtale, combo, pack, hydrating, cleanser, 10...</td>\n",
       "      <td>₹994</td>\n",
       "      <td>3 bottles</td>\n",
       "      <td>[combo, pack, useful, hydrating, moisturising,...</td>\n",
       "    </tr>\n",
       "    <tr>\n",
       "      <th>8</th>\n",
       "      <td>64ca8452a945cf043782f949</td>\n",
       "      <td>acne-pimples</td>\n",
       "      <td>https://www.1mg.com/otc/acnestar-gel-otc358988</td>\n",
       "      <td>https://onemg.gumlet.io/l_watermark_346,w_690,...</td>\n",
       "      <td>[acnestar, gel]</td>\n",
       "      <td>270 Ratings &amp; 25 Reviews</td>\n",
       "      <td>4.3</td>\n",
       "      <td>[acnestar, gel, useful, various, reason, serum...</td>\n",
       "      <td>₹98</td>\n",
       "      <td>22 gm Gel</td>\n",
       "      <td>[help, clear, extra, sebum, impuritiesassists,...</td>\n",
       "    </tr>\n",
       "    <tr>\n",
       "      <th>9</th>\n",
       "      <td>64ca8452a945cf043782f94a</td>\n",
       "      <td>acne-pimples</td>\n",
       "      <td>https://www.1mg.com/otc/acnestar-gel-otc358988</td>\n",
       "      <td>https://onemg.gumlet.io/l_watermark_346,w_690,...</td>\n",
       "      <td>[acnestar, gel]</td>\n",
       "      <td>270 Ratings &amp; 25 Reviews</td>\n",
       "      <td>4.3</td>\n",
       "      <td>[acnestar, gel, useful, various, reason, serum...</td>\n",
       "      <td>₹98</td>\n",
       "      <td>22 gm Gel</td>\n",
       "      <td>[help, clear, extra, sebum, impuritiesassists,...</td>\n",
       "    </tr>\n",
       "    <tr>\n",
       "      <th>10</th>\n",
       "      <td>64ca8452a945cf043782f94b</td>\n",
       "      <td>acne-pimples</td>\n",
       "      <td>https://www.1mg.com/otc/ga-12-cream-otc415193</td>\n",
       "      <td>https://onemg.gumlet.io/l_watermark_346,w_690,...</td>\n",
       "      <td>[ga, 12, cream]</td>\n",
       "      <td>141 Ratings &amp; 19 Reviews</td>\n",
       "      <td>4.3</td>\n",
       "      <td>[ga, 12, cream, specialized, oil, free, formul...</td>\n",
       "      <td>₹164</td>\n",
       "      <td>30 gm Cream</td>\n",
       "      <td>[gentle, formula, clean, skin, remove, excess,...</td>\n",
       "    </tr>\n",
       "  </tbody>\n",
       "</table>\n",
       "</div>"
      ],
      "text/plain": [
       "                         _id      category  \\\n",
       "1   64ca8452a945cf043782f942  acne-pimples   \n",
       "4   64ca8452a945cf043782f945  acne-pimples   \n",
       "8   64ca8452a945cf043782f949  acne-pimples   \n",
       "9   64ca8452a945cf043782f94a  acne-pimples   \n",
       "10  64ca8452a945cf043782f94b  acne-pimples   \n",
       "\n",
       "                                                 link  \\\n",
       "1   https://www.1mg.com/otc/acnemoist-cream-otc340541   \n",
       "4   https://www.1mg.com/otc/foxtale-combo-pack-of-...   \n",
       "8      https://www.1mg.com/otc/acnestar-gel-otc358988   \n",
       "9      https://www.1mg.com/otc/acnestar-gel-otc358988   \n",
       "10      https://www.1mg.com/otc/ga-12-cream-otc415193   \n",
       "\n",
       "                                            image_url  \\\n",
       "1   https://onemg.gumlet.io/l_watermark_346,w_690,...   \n",
       "4   https://onemg.gumlet.io/l_watermark_346,w_690,...   \n",
       "8   https://onemg.gumlet.io/l_watermark_346,w_690,...   \n",
       "9   https://onemg.gumlet.io/l_watermark_346,w_690,...   \n",
       "10  https://onemg.gumlet.io/l_watermark_346,w_690,...   \n",
       "\n",
       "                                                title  \\\n",
       "1                                  [acnemoist, cream]   \n",
       "4   [foxtale, combo, pack, hydrating, cleanser, 10...   \n",
       "8                                     [acnestar, gel]   \n",
       "9                                     [acnestar, gel]   \n",
       "10                                    [ga, 12, cream]   \n",
       "\n",
       "               number_ratings  rating_element  \\\n",
       "1   484 Ratings & 110 Reviews             4.4   \n",
       "4                         NaN             NaN   \n",
       "8    270 Ratings & 25 Reviews             4.3   \n",
       "9    270 Ratings & 25 Reviews             4.3   \n",
       "10   141 Ratings & 19 Reviews             4.3   \n",
       "\n",
       "                                          description price          qty  \\\n",
       "1   [acnemoist, cream, specially, formulated, oil,...  ₹319  60 gm Cream   \n",
       "4   [foxtale, combo, pack, hydrating, cleanser, 10...  ₹994    3 bottles   \n",
       "8   [acnestar, gel, useful, various, reason, serum...   ₹98    22 gm Gel   \n",
       "9   [acnestar, gel, useful, various, reason, serum...   ₹98    22 gm Gel   \n",
       "10  [ga, 12, cream, specialized, oil, free, formul...  ₹164  30 gm Cream   \n",
       "\n",
       "                                           highlights  \n",
       "1                                                  []  \n",
       "4   [combo, pack, useful, hydrating, moisturising,...  \n",
       "8   [help, clear, extra, sebum, impuritiesassists,...  \n",
       "9   [help, clear, extra, sebum, impuritiesassists,...  \n",
       "10  [gentle, formula, clean, skin, remove, excess,...  "
      ]
     },
     "execution_count": 19,
     "metadata": {},
     "output_type": "execute_result"
    }
   ],
   "source": [
    "df_processed.head()"
   ]
  },
  {
   "cell_type": "code",
   "execution_count": 20,
   "id": "f8c23eff",
   "metadata": {},
   "outputs": [],
   "source": [
    "df_processed[\"category\"] = df.category"
   ]
  },
  {
   "cell_type": "code",
   "execution_count": 21,
   "id": "78639f84",
   "metadata": {},
   "outputs": [],
   "source": [
    "df_processed['highlights'] = df_processed['highlights'].apply(lambda x: ' '.join(x))\n",
    "df_processed['description'] = df_processed['description'].apply(lambda x: ' '.join(x))\n",
    "df_processed['title'] = df_processed['title'].apply(lambda x: ' '.join(x))"
   ]
  },
  {
   "cell_type": "code",
   "execution_count": 22,
   "id": "9bb0a326",
   "metadata": {},
   "outputs": [],
   "source": [
    "df_processed.to_csv(\"pre-processed-data-mongodb.csv\")"
   ]
  },
  {
   "cell_type": "code",
   "execution_count": 46,
   "id": "21700f55",
   "metadata": {},
   "outputs": [
    {
     "name": "stdout",
     "output_type": "stream",
     "text": [
      "3638     64ca8454a945cf0437830777\n",
      "3776     64ca8454a945cf0437830801\n",
      "3145     64ca8454a945cf043783058a\n",
      "11028    64ca8459a945cf0437832455\n",
      "6888     64ca8456a945cf0437831429\n",
      "Name: _id, dtype: object\n"
     ]
    }
   ],
   "source": [
    "from sklearn.feature_extraction.text import TfidfVectorizer\n",
    "from sklearn.metrics.pairwise import cosine_similarity\n",
    "\n",
    "df_processed['text'] = df_processed['description'] + df_processed['highlights'] + df_processed['title']\n",
    "\n",
    "vectorizer = TfidfVectorizer()\n",
    "description_vectors = vectorizer.fit_transform(df_processed['text'])\n",
    "\n",
    "user_description = \"What products offer both sun protection and anti-aging benefits for maintaining youthful skin?\"\n",
    "\n",
    "user_description_vector = vectorizer.transform([user_description])\n",
    "\n",
    "similarity_scores = cosine_similarity(user_description_vector, description_vectors).flatten()\n",
    "\n",
    "df_processed['similarity_score'] = similarity_scores\n",
    "df_sorted = df_processed.sort_values(by='similarity_score', ascending=False)\n",
    "\n",
    "recommendations = df_sorted[['_id','description']].head(5)\n",
    "\n",
    "print(recommendations._id)"
   ]
  },
  {
   "cell_type": "code",
   "execution_count": 27,
   "id": "2fd2e860",
   "metadata": {
    "scrolled": false
   },
   "outputs": [
    {
     "name": "stdout",
     "output_type": "stream",
     "text": [
      "https://www.1mg.com/otc/acwis-gs-face-wash-otc517232\n",
      "https://www.1mg.com/otc/beardo-activated-charcoal-face-wash-otc689062\n",
      "https://www.1mg.com/otc/jovees-papaya-face-wash-otc732469\n",
      "https://www.1mg.com/otc/nivea-men-dark-spot-reduction-face-wash-otc323138\n",
      "https://www.1mg.com/otc/kazima-anti-aging-facial-serum-otc567162\n"
     ]
    }
   ],
   "source": [
    "for i in df.loc[[5464, 5590, 4406, 4249, 3537]]['link']:\n",
    "    print(i)"
   ]
  },
  {
   "cell_type": "code",
   "execution_count": 32,
   "id": "607f86ca",
   "metadata": {},
   "outputs": [],
   "source": [
    "ground_truth = {\n",
    "    \"Which skincare products are effective in treating and preventing acne breakouts?\": [\n",
    "        \"64ca8459a945cf04378320a2\",\n",
    "        \"64ca8457a945cf0437831566\",\n",
    "        \"64ca8457a945cf043783154c\",\n",
    "        \"64ca8458a945cf0437831f79\",\n",
    "        \"64ca8455a945cf0437830af2\"\n",
    "    ],\n",
    "    \"What are the best moisturizing products to hydrate and nourish dry skin?\": [\n",
    "        \"64ca8455a945cf0437830ff0\",\n",
    "        \"64ca8455a945cf04378309d8\",\n",
    "        \"64ca8455a945cf04378308fc\",\n",
    "        \"64ca8455a945cf0437830af2\",\n",
    "        \"64ca8455a945cf0437830b65\"\n",
    "    ],\n",
    "    \"Which skincare products are gentle and suitable for sensitive skin types?\": [\n",
    "        \"64ca8453a945cf043782fdc8\",\n",
    "        \"64ca8455a945cf0437830fe8\",\n",
    "        \"64ca8453a945cf043782fde3\",\n",
    "        \"64ca8454a945cf04378307bb\",\n",
    "        \"64ca8459a945cf04378320a2\"\n",
    "    ],\n",
    "    \"What are the recommended products to address hyperpigmentation and achieve a more even complexion?\": [\n",
    "        \"64ca8454a945cf0437830779\",\n",
    "        \"64ca8455a945cf04378308fc\",\n",
    "        \"64ca8456a945cf04378313fc\",\n",
    "        \"64ca8455a945cf0437830a00\",\n",
    "        \"64ca8455a945cf0437830af2\"\n",
    "    ],\n",
    "    \"Which skincare products are ideal for balancing combination skin and addressing both oily and dry areas?\": [\n",
    "        \"64ca8459a945cf0437832519\",\n",
    "        \"64ca8455a945cf0437830fa1\",\n",
    "        \"64ca8455a945cf0437830990\",\n",
    "        \"64ca8452a945cf043782fcac\",\n",
    "        \"64ca8459a945cf0437832583\"\n",
    "    ]\n",
    "}"
   ]
  },
  {
   "cell_type": "code",
   "execution_count": 37,
   "id": "d9109451",
   "metadata": {},
   "outputs": [],
   "source": [
    "predicted_values = {\n",
    "    \"Which skincare products are effective in treating and preventing acne breakouts?\": [\n",
    "        \"64ca8459a945cf04378320a2\",\n",
    "        \"64ca8457a945cf0437831566\",\n",
    "        \"64ca8457a945cf043783154c\",\n",
    "        \"64ca8458a945cf0437831f79\",\n",
    "        \"64ca8458a945cf0437831fc6\"\n",
    "    ],\n",
    "    \"What are the best moisturizing products to hydrate and nourish dry skin?\": [\n",
    "        \"64ca8455a945cf0437830ff0\",\n",
    "        \"64ca8455a945cf04378309d8\",\n",
    "        \"64ca8455a945cf0437830a00\",\n",
    "        \"64ca8455a945cf0437830af2\",\n",
    "        \"64ca8455a945cf0437830b65\"\n",
    "    ],\n",
    "    \"Which skincare products are gentle and suitable for sensitive skin types?\": [\n",
    "        \"64ca8452a945cf043782fce7\",\n",
    "        \"64ca8453a945cf043782fdc8\",\n",
    "        \"64ca8455a945cf0437830fe8\",\n",
    "        \"64ca8453a945cf043782fde3\",\n",
    "        \"64ca8454a945cf04378307bb\"\n",
    "    ],\n",
    "    \"What are the recommended products to address hyperpigmentation and achieve a more even complexion?\": [\n",
    "        \"64ca8455a945cf0437830fdb\",\n",
    "        \"64ca8455a945cf0437830a60\",\n",
    "        \"64ca8454a945cf0437830779\",\n",
    "        \"64ca8455a945cf04378308fc\",\n",
    "        \"64ca8456a945cf04378313fc\"\n",
    "    ],\n",
    "    \"Which skincare products are ideal for balancing combination skin and addressing both oily and dry areas?\": [\n",
    "        \"64ca8459a945cf0437832519\",\n",
    "        \"64ca8455a945cf0437830fa1\",\n",
    "        \"64ca8455a945cf0437830990\",\n",
    "        \"64ca8452a945cf043782fcac\",\n",
    "        \"64ca8459a945cf0437832583\"\n",
    "    ]\n",
    "}\n"
   ]
  },
  {
   "cell_type": "code",
   "execution_count": 34,
   "id": "36ce0954",
   "metadata": {},
   "outputs": [],
   "source": [
    "def precision_at_k(true_values, predicted_values, k):\n",
    "    assert k <= len(predicted_values)\n",
    "    top_k_predictions = predicted_values[:k]\n",
    "    relevant_items = set(true_values)\n",
    "    num_relevant_in_top_k = sum([1 for item in top_k_predictions if item in relevant_items])\n",
    "    \n",
    "    return num_relevant_in_top_k / k"
   ]
  },
  {
   "cell_type": "code",
   "execution_count": 35,
   "id": "ec1a44d0",
   "metadata": {},
   "outputs": [],
   "source": [
    "def recall_at_k(true_values, predicted_values, k):\n",
    "    assert k <= len(predicted_values)\n",
    "    top_k_predictions = predicted_values[:k]\n",
    "    relevant_items = set(true_values)\n",
    "    num_relevant_in_top_k = sum([1 for item in top_k_predictions if item in relevant_items])\n",
    "    \n",
    "    return num_relevant_in_top_k / len(relevant_items)"
   ]
  },
  {
   "cell_type": "code",
   "execution_count": 45,
   "id": "7f99b470",
   "metadata": {},
   "outputs": [
    {
     "data": {
      "text/plain": [
       "(0.8, 0.8)"
      ]
     },
     "execution_count": 45,
     "metadata": {},
     "output_type": "execute_result"
    }
   ],
   "source": [
    "precision_values = [precision_at_k(ground_truth[question], predicted_values[question], 5) for question in ground_truth]\n",
    "recall_values = [recall_at_k(ground_truth[question], predicted_values[question], 5) for question in ground_truth]\n",
    "\n",
    "sum(precision_values)/5, sum(recall_values)/5"
   ]
  },
  {
   "cell_type": "code",
   "execution_count": null,
   "id": "3b885906",
   "metadata": {},
   "outputs": [],
   "source": []
  }
 ],
 "metadata": {
  "kernelspec": {
   "display_name": "Python 3 (ipykernel)",
   "language": "python",
   "name": "python3"
  },
  "language_info": {
   "codemirror_mode": {
    "name": "ipython",
    "version": 3
   },
   "file_extension": ".py",
   "mimetype": "text/x-python",
   "name": "python",
   "nbconvert_exporter": "python",
   "pygments_lexer": "ipython3",
   "version": "3.9.12"
  }
 },
 "nbformat": 4,
 "nbformat_minor": 5
}
