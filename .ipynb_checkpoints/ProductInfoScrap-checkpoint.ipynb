{
 "cells": [
  {
   "cell_type": "code",
   "execution_count": null,
   "id": "187fafae",
   "metadata": {},
   "outputs": [],
   "source": [
    "from selenium import webdriver\n",
    "from selenium.webdriver.common.by import By\n",
    "from selenium.webdriver.support.ui import WebDriverWait\n",
    "from selenium.webdriver.support import expected_conditions as EC\n",
    "from selenium.common.exceptions import NoSuchElementException\n",
    "import pandas as pd\n",
    "import numpy as np\n",
    "import re\n",
    "import os"
   ]
  },
  {
   "cell_type": "code",
   "execution_count": null,
   "id": "2fb26498",
   "metadata": {},
   "outputs": [],
   "source": [
    "def initializeDriver():\n",
    "    path=\"D:/Selenium/chromedriver_win32/chromedriver.exe\"\n",
    "    driver = webdriver.Chrome(path)\n",
    "    return driver"
   ]
  },
  {
   "cell_type": "code",
   "execution_count": null,
   "id": "594e4357",
   "metadata": {},
   "outputs": [],
   "source": [
    "driver = initializeDriver()"
   ]
  },
  {
   "cell_type": "code",
   "execution_count": null,
   "id": "8e6a5557",
   "metadata": {},
   "outputs": [],
   "source": [
    "directory = './Data/'\n",
    "\n",
    "dfs = []\n",
    "\n",
    "for filename in os.listdir(directory):\n",
    "    if filename.endswith(\".csv\"):\n",
    "        filepath = os.path.join(directory, filename)\n",
    "        df = pd.read_csv(filepath)\n",
    "        df['category'] = os.path.splitext(filename)[0]\n",
    "        dfs.append(df)\n",
    "\n",
    "combined_df = pd.concat(dfs, ignore_index=True)"
   ]
  },
  {
   "cell_type": "code",
   "execution_count": null,
   "id": "d4440a25",
   "metadata": {},
   "outputs": [],
   "source": [
    "combined_df.head()"
   ]
  },
  {
   "cell_type": "code",
   "execution_count": null,
   "id": "772c35ce",
   "metadata": {},
   "outputs": [],
   "source": [
    "combined_df.drop(columns=df.columns[0], index=1, inplace=True)\n",
    "combined_df = combined_df.rename(columns={\"0\": \"link\"})"
   ]
  },
  {
   "cell_type": "code",
   "execution_count": null,
   "id": "c8a990ef",
   "metadata": {},
   "outputs": [],
   "source": [
    "combined_df.head()"
   ]
  },
  {
   "cell_type": "code",
   "execution_count": null,
   "id": "680bf317",
   "metadata": {},
   "outputs": [],
   "source": [
    "def closePopUp():\n",
    "    try:\n",
    "        popup = WebDriverWait(driver, 10).until(\n",
    "                EC.visibility_of_element_located((By.CLASS_NAME, \"UpdateCityModal__modal-body___H98MG\"))\n",
    "        )\n",
    "        cancel_button = popup.find_element(By.CLASS_NAME, \"UpdateCityModal__cancel-btn___2jWwS\")\n",
    "        cancel_button.click()\n",
    "    except:\n",
    "        print(\"Pop Up not found!!\")"
   ]
  },
  {
   "cell_type": "code",
   "execution_count": null,
   "id": "e8d192f7",
   "metadata": {},
   "outputs": [],
   "source": [
    "def scrape_product_details(url, flag):\n",
    "    # Open URL\n",
    "    driver.get(url)\n",
    "    # Close pop-up\n",
    "    if flag:\n",
    "        closePopUp()\n",
    "    \n",
    "    info = []\n",
    "    \n",
    "    # Image\n",
    "    image_link = np.nan\n",
    "    try:\n",
    "        image_element = driver.find_element_by_css_selector('.col-xs-10.ProductImage__preview-container___2oTeX img')\n",
    "        image_link = image_element.get_attribute('src')\n",
    "    except NoSuchElementException:\n",
    "        pass\n",
    "\n",
    "    # Title\n",
    "    title = np.nan\n",
    "    try:\n",
    "        title_element = driver.find_element_by_class_name(\"ProductTitle__product-title___3QMYH\")\n",
    "        title = title_element.text\n",
    "    except NoSuchElementException:\n",
    "        pass\n",
    "    \n",
    "    # Highlights\n",
    "    highlights = np.nan\n",
    "    try:\n",
    "        highlight_elements = driver.find_elements_by_css_selector('.ProductHighlights__highlights-text___dc-WQ li')\n",
    "        highlights = '+'.join([element.text for element in highlight_elements])\n",
    "    except NoSuchElementException:\n",
    "        pass\n",
    "\n",
    "    # Number of ratings\n",
    "    number_ratings = np.nan\n",
    "    try:\n",
    "        number_ratings_element = driver.find_element_by_css_selector('.RatingDisplay__ratings-header___ZNj5b')\n",
    "        number_ratings = number_ratings_element.text\n",
    "    except NoSuchElementException:\n",
    "        pass\n",
    "\n",
    "    # Rating\n",
    "    rating = np.nan\n",
    "    try:\n",
    "        rating_element = driver.find_element_by_css_selector('.ProductTitle__ratings___4MWF_ .RatingDisplay__ratings-container___3oUuo span')\n",
    "        rating = rating_element.text\n",
    "    except NoSuchElementException:\n",
    "        pass\n",
    "\n",
    "    # Description\n",
    "    description = np.nan\n",
    "    try:\n",
    "        description_content_element = driver.find_element_by_css_selector('.ProductDescription__description-content___A_qCZ')\n",
    "        description = description_content_element.get_attribute(\"innerHTML\")\n",
    "        description = re.sub('<.*?>', '', description)\n",
    "    except NoSuchElementException:\n",
    "        pass\n",
    "\n",
    "    # Price\n",
    "    price = np.nan\n",
    "    try:\n",
    "        price_element = driver.find_element_by_class_name(\"PriceBoxPlanOption__offer-price___3v9x8\")\n",
    "        price = price_element.text\n",
    "    except NoSuchElementException:\n",
    "        pass\n",
    "\n",
    "    # Quantity\n",
    "    qty = np.nan\n",
    "    try:\n",
    "        qty_element = driver.find_element_by_class_name(\"PackSizeLabel__single-packsize___3KEr_\")\n",
    "        qty = qty_element.text\n",
    "    except NoSuchElementException:\n",
    "        pass\n",
    "        \n",
    "    info = [image_link, title, highlights, number_ratings, rating, description, price, qty, 'baby-sunscreens']\n",
    "    return info"
   ]
  },
  {
   "cell_type": "code",
   "execution_count": null,
   "id": "902f5091",
   "metadata": {
    "scrolled": true
   },
   "outputs": [],
   "source": [
    "combined_df = pd.read_csv(\"data.csv\")\n",
    "columns = ['image_url', 'title', 'highlights', 'number_ratings', 'rating_element', 'description', 'price', 'qty', 'category']\n",
    "df_info = pd.DataFrame(columns=columns)\n",
    "flag=True\n",
    "for index, row in combined_df.iterrows():\n",
    "    url = row['link']\n",
    "    info = scrape_product_details(url, flag)\n",
    "    flag = False\n",
    "    df_info.loc[len(df_info)] = info\n",
    "    df_info['category'] = row['category']\n",
    "df_info.to_csv(\"product_description.csv\")"
   ]
  },
  {
   "cell_type": "code",
   "execution_count": null,
   "id": "eaf464bc",
   "metadata": {},
   "outputs": [],
   "source": [
    "data = pd.read_csv(\"product_description.csv\")"
   ]
  },
  {
   "cell_type": "code",
   "execution_count": null,
   "id": "752ad471",
   "metadata": {},
   "outputs": [],
   "source": [
    "data.isnull().sum()"
   ]
  },
  {
   "cell_type": "code",
   "execution_count": null,
   "id": "fdd74250",
   "metadata": {},
   "outputs": [],
   "source": [
    "removed_cat = data.drop(['category'], axis=1)"
   ]
  }
 ],
 "metadata": {
  "kernelspec": {
   "display_name": "Python 3 (ipykernel)",
   "language": "python",
   "name": "python3"
  },
  "language_info": {
   "codemirror_mode": {
    "name": "ipython",
    "version": 3
   },
   "file_extension": ".py",
   "mimetype": "text/x-python",
   "name": "python",
   "nbconvert_exporter": "python",
   "pygments_lexer": "ipython3",
   "version": "3.9.12"
  }
 },
 "nbformat": 4,
 "nbformat_minor": 5
}
