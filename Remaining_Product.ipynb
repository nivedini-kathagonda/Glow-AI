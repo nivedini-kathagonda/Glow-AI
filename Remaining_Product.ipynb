{
 "cells": [
  {
   "cell_type": "code",
   "execution_count": 1,
   "id": "c0f339dd",
   "metadata": {},
   "outputs": [],
   "source": [
    "from selenium import webdriver\n",
    "from selenium.webdriver.common.by import By\n",
    "from selenium.webdriver.support.ui import WebDriverWait\n",
    "from selenium.webdriver.support import expected_conditions as EC\n",
    "from selenium.common.exceptions import NoSuchElementException\n",
    "import pandas as pd\n",
    "import numpy as np\n",
    "import re\n",
    "import os"
   ]
  },
  {
   "cell_type": "code",
   "execution_count": 2,
   "id": "1682e7f2",
   "metadata": {},
   "outputs": [],
   "source": [
    "df_link = pd.read_csv(\"data.csv\")"
   ]
  },
  {
   "cell_type": "code",
   "execution_count": 3,
   "id": "8a316732",
   "metadata": {},
   "outputs": [
    {
     "data": {
      "text/html": [
       "<div>\n",
       "<style scoped>\n",
       "    .dataframe tbody tr th:only-of-type {\n",
       "        vertical-align: middle;\n",
       "    }\n",
       "\n",
       "    .dataframe tbody tr th {\n",
       "        vertical-align: top;\n",
       "    }\n",
       "\n",
       "    .dataframe thead th {\n",
       "        text-align: right;\n",
       "    }\n",
       "</style>\n",
       "<table border=\"1\" class=\"dataframe\">\n",
       "  <thead>\n",
       "    <tr style=\"text-align: right;\">\n",
       "      <th></th>\n",
       "      <th>Unnamed: 0</th>\n",
       "      <th>link</th>\n",
       "      <th>category</th>\n",
       "    </tr>\n",
       "  </thead>\n",
       "  <tbody>\n",
       "    <tr>\n",
       "      <th>0</th>\n",
       "      <td>0</td>\n",
       "      <td>https://www.1mg.com/drugs/tretin-0.025-cream-1...</td>\n",
       "      <td>acne-pimples</td>\n",
       "    </tr>\n",
       "    <tr>\n",
       "      <th>1</th>\n",
       "      <td>2</td>\n",
       "      <td>https://www.1mg.com/otc/kapiva-tulsi-anti-acne...</td>\n",
       "      <td>acne-pimples</td>\n",
       "    </tr>\n",
       "    <tr>\n",
       "      <th>2</th>\n",
       "      <td>3</td>\n",
       "      <td>https://www.1mg.com/otc/acnemoist-cream-otc340541</td>\n",
       "      <td>acne-pimples</td>\n",
       "    </tr>\n",
       "    <tr>\n",
       "      <th>3</th>\n",
       "      <td>4</td>\n",
       "      <td>https://www.1mg.com/drugs/benzac-ac-2.5-gel-67...</td>\n",
       "      <td>acne-pimples</td>\n",
       "    </tr>\n",
       "    <tr>\n",
       "      <th>4</th>\n",
       "      <td>5</td>\n",
       "      <td>https://www.1mg.com/drugs/benzonix-gel-wash-51...</td>\n",
       "      <td>acne-pimples</td>\n",
       "    </tr>\n",
       "  </tbody>\n",
       "</table>\n",
       "</div>"
      ],
      "text/plain": [
       "   Unnamed: 0                                               link      category\n",
       "0           0  https://www.1mg.com/drugs/tretin-0.025-cream-1...  acne-pimples\n",
       "1           2  https://www.1mg.com/otc/kapiva-tulsi-anti-acne...  acne-pimples\n",
       "2           3  https://www.1mg.com/otc/acnemoist-cream-otc340541  acne-pimples\n",
       "3           4  https://www.1mg.com/drugs/benzac-ac-2.5-gel-67...  acne-pimples\n",
       "4           5  https://www.1mg.com/drugs/benzonix-gel-wash-51...  acne-pimples"
      ]
     },
     "execution_count": 3,
     "metadata": {},
     "output_type": "execute_result"
    }
   ],
   "source": [
    "df_link.head()"
   ]
  },
  {
   "cell_type": "code",
   "execution_count": 4,
   "id": "361b0790",
   "metadata": {},
   "outputs": [],
   "source": [
    "df_desc = pd.read_csv(\"product_description.csv\")"
   ]
  },
  {
   "cell_type": "code",
   "execution_count": 5,
   "id": "e56782fb",
   "metadata": {},
   "outputs": [
    {
     "data": {
      "text/html": [
       "<div>\n",
       "<style scoped>\n",
       "    .dataframe tbody tr th:only-of-type {\n",
       "        vertical-align: middle;\n",
       "    }\n",
       "\n",
       "    .dataframe tbody tr th {\n",
       "        vertical-align: top;\n",
       "    }\n",
       "\n",
       "    .dataframe thead th {\n",
       "        text-align: right;\n",
       "    }\n",
       "</style>\n",
       "<table border=\"1\" class=\"dataframe\">\n",
       "  <thead>\n",
       "    <tr style=\"text-align: right;\">\n",
       "      <th></th>\n",
       "      <th>Unnamed: 0</th>\n",
       "      <th>image_url</th>\n",
       "      <th>title</th>\n",
       "      <th>highlights</th>\n",
       "      <th>number_ratings</th>\n",
       "      <th>rating_element</th>\n",
       "      <th>description</th>\n",
       "      <th>price</th>\n",
       "      <th>qty</th>\n",
       "      <th>category</th>\n",
       "    </tr>\n",
       "  </thead>\n",
       "  <tbody>\n",
       "    <tr>\n",
       "      <th>0</th>\n",
       "      <td>0</td>\n",
       "      <td>NaN</td>\n",
       "      <td>NaN</td>\n",
       "      <td>NaN</td>\n",
       "      <td>NaN</td>\n",
       "      <td>NaN</td>\n",
       "      <td>NaN</td>\n",
       "      <td>NaN</td>\n",
       "      <td>NaN</td>\n",
       "      <td>toners-astringents</td>\n",
       "    </tr>\n",
       "    <tr>\n",
       "      <th>1</th>\n",
       "      <td>1</td>\n",
       "      <td>https://onemg.gumlet.io/l_watermark_346,w_690,...</td>\n",
       "      <td>Kapiva Tulsi Anti Acne Serum</td>\n",
       "      <td>Crafted with natural ingredients only+Prevents...</td>\n",
       "      <td>NaN</td>\n",
       "      <td>NaN</td>\n",
       "      <td>Kapiva Tulsi Anti Acne Serum is formulated wit...</td>\n",
       "      <td>₹487</td>\n",
       "      <td>30 ml Serum</td>\n",
       "      <td>toners-astringents</td>\n",
       "    </tr>\n",
       "    <tr>\n",
       "      <th>2</th>\n",
       "      <td>2</td>\n",
       "      <td>https://onemg.gumlet.io/l_watermark_346,w_690,...</td>\n",
       "      <td>Acnemoist Cream</td>\n",
       "      <td>NaN</td>\n",
       "      <td>484 Ratings &amp; 110 Reviews</td>\n",
       "      <td>4.4</td>\n",
       "      <td>Acnemoist cream is a specially formulated oil ...</td>\n",
       "      <td>₹319</td>\n",
       "      <td>60 gm Cream</td>\n",
       "      <td>toners-astringents</td>\n",
       "    </tr>\n",
       "    <tr>\n",
       "      <th>3</th>\n",
       "      <td>3</td>\n",
       "      <td>NaN</td>\n",
       "      <td>NaN</td>\n",
       "      <td>NaN</td>\n",
       "      <td>NaN</td>\n",
       "      <td>NaN</td>\n",
       "      <td>NaN</td>\n",
       "      <td>NaN</td>\n",
       "      <td>NaN</td>\n",
       "      <td>toners-astringents</td>\n",
       "    </tr>\n",
       "    <tr>\n",
       "      <th>4</th>\n",
       "      <td>4</td>\n",
       "      <td>NaN</td>\n",
       "      <td>NaN</td>\n",
       "      <td>NaN</td>\n",
       "      <td>NaN</td>\n",
       "      <td>NaN</td>\n",
       "      <td>NaN</td>\n",
       "      <td>NaN</td>\n",
       "      <td>NaN</td>\n",
       "      <td>toners-astringents</td>\n",
       "    </tr>\n",
       "  </tbody>\n",
       "</table>\n",
       "</div>"
      ],
      "text/plain": [
       "   Unnamed: 0                                          image_url  \\\n",
       "0           0                                                NaN   \n",
       "1           1  https://onemg.gumlet.io/l_watermark_346,w_690,...   \n",
       "2           2  https://onemg.gumlet.io/l_watermark_346,w_690,...   \n",
       "3           3                                                NaN   \n",
       "4           4                                                NaN   \n",
       "\n",
       "                          title  \\\n",
       "0                           NaN   \n",
       "1  Kapiva Tulsi Anti Acne Serum   \n",
       "2               Acnemoist Cream   \n",
       "3                           NaN   \n",
       "4                           NaN   \n",
       "\n",
       "                                          highlights  \\\n",
       "0                                                NaN   \n",
       "1  Crafted with natural ingredients only+Prevents...   \n",
       "2                                                NaN   \n",
       "3                                                NaN   \n",
       "4                                                NaN   \n",
       "\n",
       "              number_ratings  rating_element  \\\n",
       "0                        NaN             NaN   \n",
       "1                        NaN             NaN   \n",
       "2  484 Ratings & 110 Reviews             4.4   \n",
       "3                        NaN             NaN   \n",
       "4                        NaN             NaN   \n",
       "\n",
       "                                         description price          qty  \\\n",
       "0                                                NaN   NaN          NaN   \n",
       "1  Kapiva Tulsi Anti Acne Serum is formulated wit...  ₹487  30 ml Serum   \n",
       "2  Acnemoist cream is a specially formulated oil ...  ₹319  60 gm Cream   \n",
       "3                                                NaN   NaN          NaN   \n",
       "4                                                NaN   NaN          NaN   \n",
       "\n",
       "             category  \n",
       "0  toners-astringents  \n",
       "1  toners-astringents  \n",
       "2  toners-astringents  \n",
       "3  toners-astringents  \n",
       "4  toners-astringents  "
      ]
     },
     "execution_count": 5,
     "metadata": {},
     "output_type": "execute_result"
    }
   ],
   "source": [
    "df_desc.head()"
   ]
  },
  {
   "cell_type": "code",
   "execution_count": 6,
   "id": "7957b92b",
   "metadata": {},
   "outputs": [],
   "source": [
    "df_desc.drop(columns=df_desc.columns[0], index=1, inplace=True)\n",
    "df_link.drop(columns=df_link.columns[0], index=1, inplace=True)"
   ]
  },
  {
   "cell_type": "code",
   "execution_count": 7,
   "id": "bda3e092",
   "metadata": {},
   "outputs": [],
   "source": [
    "df_desc['link'] =df_link['link']"
   ]
  },
  {
   "cell_type": "code",
   "execution_count": 8,
   "id": "2f71193d",
   "metadata": {},
   "outputs": [],
   "source": [
    "df_desc['category'] =df_link['category']"
   ]
  },
  {
   "cell_type": "code",
   "execution_count": 9,
   "id": "b2a88aff",
   "metadata": {},
   "outputs": [],
   "source": [
    "df_desc.head()\n",
    "df_desc.to_csv(\"main_data.csv\")"
   ]
  },
  {
   "cell_type": "code",
   "execution_count": 10,
   "id": "42c25090",
   "metadata": {},
   "outputs": [],
   "source": [
    "remaining_df = df_desc[df_desc['title'].isnull()]"
   ]
  },
  {
   "cell_type": "code",
   "execution_count": 11,
   "id": "4a21fb4c",
   "metadata": {},
   "outputs": [
    {
     "data": {
      "text/html": [
       "<div>\n",
       "<style scoped>\n",
       "    .dataframe tbody tr th:only-of-type {\n",
       "        vertical-align: middle;\n",
       "    }\n",
       "\n",
       "    .dataframe tbody tr th {\n",
       "        vertical-align: top;\n",
       "    }\n",
       "\n",
       "    .dataframe thead th {\n",
       "        text-align: right;\n",
       "    }\n",
       "</style>\n",
       "<table border=\"1\" class=\"dataframe\">\n",
       "  <thead>\n",
       "    <tr style=\"text-align: right;\">\n",
       "      <th></th>\n",
       "      <th>image_url</th>\n",
       "      <th>title</th>\n",
       "      <th>highlights</th>\n",
       "      <th>number_ratings</th>\n",
       "      <th>rating_element</th>\n",
       "      <th>description</th>\n",
       "      <th>price</th>\n",
       "      <th>qty</th>\n",
       "      <th>category</th>\n",
       "      <th>link</th>\n",
       "    </tr>\n",
       "  </thead>\n",
       "  <tbody>\n",
       "    <tr>\n",
       "      <th>0</th>\n",
       "      <td>NaN</td>\n",
       "      <td>NaN</td>\n",
       "      <td>NaN</td>\n",
       "      <td>NaN</td>\n",
       "      <td>NaN</td>\n",
       "      <td>NaN</td>\n",
       "      <td>NaN</td>\n",
       "      <td>NaN</td>\n",
       "      <td>acne-pimples</td>\n",
       "      <td>https://www.1mg.com/drugs/tretin-0.025-cream-1...</td>\n",
       "    </tr>\n",
       "    <tr>\n",
       "      <th>3</th>\n",
       "      <td>NaN</td>\n",
       "      <td>NaN</td>\n",
       "      <td>NaN</td>\n",
       "      <td>NaN</td>\n",
       "      <td>NaN</td>\n",
       "      <td>NaN</td>\n",
       "      <td>NaN</td>\n",
       "      <td>NaN</td>\n",
       "      <td>acne-pimples</td>\n",
       "      <td>https://www.1mg.com/drugs/benzac-ac-2.5-gel-67...</td>\n",
       "    </tr>\n",
       "    <tr>\n",
       "      <th>4</th>\n",
       "      <td>NaN</td>\n",
       "      <td>NaN</td>\n",
       "      <td>NaN</td>\n",
       "      <td>NaN</td>\n",
       "      <td>NaN</td>\n",
       "      <td>NaN</td>\n",
       "      <td>NaN</td>\n",
       "      <td>NaN</td>\n",
       "      <td>acne-pimples</td>\n",
       "      <td>https://www.1mg.com/drugs/benzonix-gel-wash-51...</td>\n",
       "    </tr>\n",
       "    <tr>\n",
       "      <th>6</th>\n",
       "      <td>NaN</td>\n",
       "      <td>NaN</td>\n",
       "      <td>NaN</td>\n",
       "      <td>NaN</td>\n",
       "      <td>NaN</td>\n",
       "      <td>NaN</td>\n",
       "      <td>NaN</td>\n",
       "      <td>NaN</td>\n",
       "      <td>acne-pimples</td>\n",
       "      <td>https://www.1mg.com/drugs/a-ret-0.1-gel-279453</td>\n",
       "    </tr>\n",
       "    <tr>\n",
       "      <th>7</th>\n",
       "      <td>NaN</td>\n",
       "      <td>NaN</td>\n",
       "      <td>NaN</td>\n",
       "      <td>NaN</td>\n",
       "      <td>NaN</td>\n",
       "      <td>NaN</td>\n",
       "      <td>NaN</td>\n",
       "      <td>NaN</td>\n",
       "      <td>acne-pimples</td>\n",
       "      <td>https://www.1mg.com/drugs/tretin-0.05-cream-33121</td>\n",
       "    </tr>\n",
       "    <tr>\n",
       "      <th>...</th>\n",
       "      <td>...</td>\n",
       "      <td>...</td>\n",
       "      <td>...</td>\n",
       "      <td>...</td>\n",
       "      <td>...</td>\n",
       "      <td>...</td>\n",
       "      <td>...</td>\n",
       "      <td>...</td>\n",
       "      <td>...</td>\n",
       "      <td>...</td>\n",
       "    </tr>\n",
       "    <tr>\n",
       "      <th>10972</th>\n",
       "      <td>NaN</td>\n",
       "      <td>NaN</td>\n",
       "      <td>NaN</td>\n",
       "      <td>NaN</td>\n",
       "      <td>NaN</td>\n",
       "      <td>NaN</td>\n",
       "      <td>NaN</td>\n",
       "      <td>NaN</td>\n",
       "      <td>skin-pigmentation</td>\n",
       "      <td>https://www.1mg.com/drugs/eflora-cream-129640</td>\n",
       "    </tr>\n",
       "    <tr>\n",
       "      <th>10983</th>\n",
       "      <td>NaN</td>\n",
       "      <td>NaN</td>\n",
       "      <td>NaN</td>\n",
       "      <td>NaN</td>\n",
       "      <td>NaN</td>\n",
       "      <td>NaN</td>\n",
       "      <td>NaN</td>\n",
       "      <td>NaN</td>\n",
       "      <td>skin-pigmentation</td>\n",
       "      <td>https://www.1mg.com/drugs/trimop-forte-tablet-...</td>\n",
       "    </tr>\n",
       "    <tr>\n",
       "      <th>10985</th>\n",
       "      <td>NaN</td>\n",
       "      <td>NaN</td>\n",
       "      <td>NaN</td>\n",
       "      <td>NaN</td>\n",
       "      <td>NaN</td>\n",
       "      <td>NaN</td>\n",
       "      <td>NaN</td>\n",
       "      <td>NaN</td>\n",
       "      <td>skin-pigmentation</td>\n",
       "      <td>https://www.1mg.com/drugs/xtralite-cream-402291</td>\n",
       "    </tr>\n",
       "    <tr>\n",
       "      <th>11000</th>\n",
       "      <td>NaN</td>\n",
       "      <td>NaN</td>\n",
       "      <td>NaN</td>\n",
       "      <td>NaN</td>\n",
       "      <td>NaN</td>\n",
       "      <td>NaN</td>\n",
       "      <td>NaN</td>\n",
       "      <td>NaN</td>\n",
       "      <td>skin-pigmentation</td>\n",
       "      <td>https://www.1mg.com/drugs/elyn-cream-144725</td>\n",
       "    </tr>\n",
       "    <tr>\n",
       "      <th>11014</th>\n",
       "      <td>NaN</td>\n",
       "      <td>NaN</td>\n",
       "      <td>NaN</td>\n",
       "      <td>NaN</td>\n",
       "      <td>NaN</td>\n",
       "      <td>NaN</td>\n",
       "      <td>NaN</td>\n",
       "      <td>NaN</td>\n",
       "      <td>skin-pigmentation</td>\n",
       "      <td>https://www.1mg.com/drugs/suncros-soft-2-cream...</td>\n",
       "    </tr>\n",
       "  </tbody>\n",
       "</table>\n",
       "<p>292 rows × 10 columns</p>\n",
       "</div>"
      ],
      "text/plain": [
       "      image_url title highlights number_ratings  rating_element description  \\\n",
       "0           NaN   NaN        NaN            NaN             NaN         NaN   \n",
       "3           NaN   NaN        NaN            NaN             NaN         NaN   \n",
       "4           NaN   NaN        NaN            NaN             NaN         NaN   \n",
       "6           NaN   NaN        NaN            NaN             NaN         NaN   \n",
       "7           NaN   NaN        NaN            NaN             NaN         NaN   \n",
       "...         ...   ...        ...            ...             ...         ...   \n",
       "10972       NaN   NaN        NaN            NaN             NaN         NaN   \n",
       "10983       NaN   NaN        NaN            NaN             NaN         NaN   \n",
       "10985       NaN   NaN        NaN            NaN             NaN         NaN   \n",
       "11000       NaN   NaN        NaN            NaN             NaN         NaN   \n",
       "11014       NaN   NaN        NaN            NaN             NaN         NaN   \n",
       "\n",
       "      price  qty           category  \\\n",
       "0       NaN  NaN       acne-pimples   \n",
       "3       NaN  NaN       acne-pimples   \n",
       "4       NaN  NaN       acne-pimples   \n",
       "6       NaN  NaN       acne-pimples   \n",
       "7       NaN  NaN       acne-pimples   \n",
       "...     ...  ...                ...   \n",
       "10972   NaN  NaN  skin-pigmentation   \n",
       "10983   NaN  NaN  skin-pigmentation   \n",
       "10985   NaN  NaN  skin-pigmentation   \n",
       "11000   NaN  NaN  skin-pigmentation   \n",
       "11014   NaN  NaN  skin-pigmentation   \n",
       "\n",
       "                                                    link  \n",
       "0      https://www.1mg.com/drugs/tretin-0.025-cream-1...  \n",
       "3      https://www.1mg.com/drugs/benzac-ac-2.5-gel-67...  \n",
       "4      https://www.1mg.com/drugs/benzonix-gel-wash-51...  \n",
       "6         https://www.1mg.com/drugs/a-ret-0.1-gel-279453  \n",
       "7      https://www.1mg.com/drugs/tretin-0.05-cream-33121  \n",
       "...                                                  ...  \n",
       "10972      https://www.1mg.com/drugs/eflora-cream-129640  \n",
       "10983  https://www.1mg.com/drugs/trimop-forte-tablet-...  \n",
       "10985    https://www.1mg.com/drugs/xtralite-cream-402291  \n",
       "11000        https://www.1mg.com/drugs/elyn-cream-144725  \n",
       "11014  https://www.1mg.com/drugs/suncros-soft-2-cream...  \n",
       "\n",
       "[292 rows x 10 columns]"
      ]
     },
     "execution_count": 11,
     "metadata": {},
     "output_type": "execute_result"
    }
   ],
   "source": [
    "remaining_df"
   ]
  },
  {
   "cell_type": "code",
   "execution_count": 12,
   "id": "5d5b8839",
   "metadata": {},
   "outputs": [],
   "source": [
    "df_others = remaining_df[~remaining_df.link.str.contains('/drugs/', case=False, regex=True)]"
   ]
  },
  {
   "cell_type": "code",
   "execution_count": 13,
   "id": "61c1de93",
   "metadata": {},
   "outputs": [],
   "source": [
    "df_containes = remaining_df[remaining_df.link.str.contains('/drugs/', case=False, regex=True)]"
   ]
  },
  {
   "cell_type": "code",
   "execution_count": 14,
   "id": "6b216ca0",
   "metadata": {},
   "outputs": [
    {
     "data": {
      "text/plain": [
       "(255, 10)"
      ]
     },
     "execution_count": 14,
     "metadata": {},
     "output_type": "execute_result"
    }
   ],
   "source": [
    "df_containes.shape"
   ]
  },
  {
   "cell_type": "code",
   "execution_count": 15,
   "id": "00b0a402",
   "metadata": {},
   "outputs": [
    {
     "data": {
      "text/plain": [
       "(11353, 10)"
      ]
     },
     "execution_count": 15,
     "metadata": {},
     "output_type": "execute_result"
    }
   ],
   "source": [
    "df_desc.shape"
   ]
  },
  {
   "cell_type": "code",
   "execution_count": 17,
   "id": "21230c0c",
   "metadata": {},
   "outputs": [
    {
     "data": {
      "text/plain": [
       "(37, 10)"
      ]
     },
     "execution_count": 17,
     "metadata": {},
     "output_type": "execute_result"
    }
   ],
   "source": [
    "df_others.shape"
   ]
  },
  {
   "cell_type": "code",
   "execution_count": 18,
   "id": "7b0caec5",
   "metadata": {},
   "outputs": [
    {
     "data": {
      "text/plain": [
       "(292, 10)"
      ]
     },
     "execution_count": 18,
     "metadata": {},
     "output_type": "execute_result"
    }
   ],
   "source": [
    "remaining_df.shape"
   ]
  },
  {
   "cell_type": "code",
   "execution_count": 21,
   "id": "9844a543",
   "metadata": {},
   "outputs": [],
   "source": [
    "df_remaining_product = pd.read_csv(\"data-of-remaining-products.csv\")"
   ]
  },
  {
   "cell_type": "code",
   "execution_count": 22,
   "id": "e294dcfc",
   "metadata": {},
   "outputs": [
    {
     "data": {
      "text/plain": [
       "(255, 18)"
      ]
     },
     "execution_count": 22,
     "metadata": {},
     "output_type": "execute_result"
    }
   ],
   "source": [
    "df_remaining_product.shape"
   ]
  },
  {
   "cell_type": "code",
   "execution_count": null,
   "id": "a2b72639",
   "metadata": {},
   "outputs": [],
   "source": [
    "df_remaining_product"
   ]
  },
  {
   "cell_type": "code",
   "execution_count": null,
   "id": "bf430d44",
   "metadata": {},
   "outputs": [],
   "source": []
  },
  {
   "cell_type": "code",
   "execution_count": null,
   "id": "23c3fb40",
   "metadata": {},
   "outputs": [],
   "source": [
    "df_containes['link'][0]"
   ]
  },
  {
   "cell_type": "code",
   "execution_count": null,
   "id": "70bc5c4c",
   "metadata": {},
   "outputs": [],
   "source": [
    "def initializeDriver():\n",
    "    path=\"D:/Selenium/chromedriver_win32/chromedriver.exe\"\n",
    "    driver = webdriver.Chrome(path)\n",
    "    return driver"
   ]
  },
  {
   "cell_type": "code",
   "execution_count": null,
   "id": "86908084",
   "metadata": {},
   "outputs": [],
   "source": [
    "driver = initializeDriver()"
   ]
  },
  {
   "cell_type": "code",
   "execution_count": null,
   "id": "f00b89de",
   "metadata": {},
   "outputs": [],
   "source": [
    "def closePopUp():\n",
    "    try:\n",
    "        popup = WebDriverWait(driver, 10).until(\n",
    "                EC.visibility_of_element_located((By.CLASS_NAME, \"UpdateCityModal__modal-body___H98MG\"))\n",
    "        )\n",
    "        cancel_button = popup.find_element(By.CLASS_NAME, \"UpdateCityModal__cancel-btn___2jWwS\")\n",
    "        cancel_button.click()\n",
    "    except:\n",
    "        print(\"Pop Up not found!!\")"
   ]
  },
  {
   "cell_type": "code",
   "execution_count": null,
   "id": "1b66284e",
   "metadata": {},
   "outputs": [],
   "source": [
    "def scrape_product_details(url, flag):\n",
    "    # Open URL\n",
    "    driver.get(url)\n",
    "    # Close pop-up\n",
    "    if flag:\n",
    "        closePopUp()\n",
    "    \n",
    "    info = []\n",
    "    \n",
    "    # Image\n",
    "    image_link = np.nan\n",
    "    try:\n",
    "        image_element = driver.find_element_by_css_selector('.style__image___Ny-Sa')\n",
    "        image_link = image_element.get_attribute('src')\n",
    "    except NoSuchElementException:\n",
    "        pass\n",
    "\n",
    "    # Title\n",
    "    title = np.nan\n",
    "    try:\n",
    "        title_element = driver.find_element_by_class_name(\"DrugHeader__title-content___2ZaPo\")\n",
    "        title = title_element.text\n",
    "    except NoSuchElementException:\n",
    "        pass\n",
    "\n",
    "    # Description\n",
    "    description = np.nan\n",
    "    try:\n",
    "        description_element = driver.find_element_by_class_name('DrugOverview__content___22ZBX')\n",
    "        description = description_element.get_attribute('innerHTML')\n",
    "        description = re.sub('<.*?>', '', description)\n",
    "    except NoSuchElementException:\n",
    "        pass\n",
    "\n",
    "    #usage\n",
    "    usages = np.nan\n",
    "    try:\n",
    "        usages_element = driver.find_element_by_class_name('DrugOverview__uses___1jmC3')\n",
    "        usage_items = usages_element.find_elements_by_tag_name('li')\n",
    "        usages = '+'.join([item.text for item in usage_items])\n",
    "    except NoSuchElementException:\n",
    "        pass\n",
    "    \n",
    "    #benefits\n",
    "    benefits= np.nan\n",
    "    try:\n",
    "        benefits_element = driver.find_element_by_class_name('DrugOverview__content___22ZBX')\n",
    "        benefits = benefits_element.text\n",
    "    except NoSuchElementException:\n",
    "        pass\n",
    "    \n",
    "    #side effect\n",
    "    side_effects = np.nan\n",
    "    try:\n",
    "        side_effects_element = driver.find_element_by_class_name('DrugOverview__content___22ZBX')\n",
    "        side_effects = side_effects_element.text\n",
    "    except NoSuchElementException:\n",
    "        pass\n",
    "    \n",
    "    #common-side effect\n",
    "    side_common = np.nan\n",
    "    try:\n",
    "        list_container_element = driver.find_element_by_class_name('DrugOverview__list-container___2eAr6')\n",
    "        list_items = list_container_element.find_elements_by_tag_name('li')\n",
    "        side_common = ' + '.join([item.text for item in list_items])\n",
    "    except NoSuchElementException:\n",
    "        pass\n",
    "    \n",
    "    #how it works\n",
    "    how_it_works = np.nan\n",
    "    try:\n",
    "        how_it_works_element = driver.find_element_by_class_name('DrugOverview__content___22ZBX')\n",
    "        how_it_works = how_it_works_element.text\n",
    "    except NoSuchElementException:\n",
    "        pass\n",
    "    \n",
    "    alcohol_side_effect = np.nan\n",
    "    pregnancy_side_effect = np.nan\n",
    "    breastfeeding_side_effect = np.nan\n",
    "    driving_side_effect = np.nan\n",
    "    kidney_side_effect = np.nan\n",
    "    liver_side_effect = np.nan\n",
    "    try:\n",
    "        warning_elements = driver.find_elements_by_class_name('DrugOverview__warning-top___UD3xX')\n",
    "        for warning_element in warning_elements:\n",
    "            side_effect_name = warning_element.find_element_by_tag_name('span').text\n",
    "\n",
    "            warning_content_element = warning_element.find_element_by_xpath('./following-sibling::div[@class=\"DrugOverview__content___22ZBX\"]')\n",
    "            warning_content = warning_content_element.text\n",
    "\n",
    "            if warning_content == 'No interaction found/established':\n",
    "                side_effect_value = np.nan\n",
    "            else:\n",
    "                side_effect_value = warning_content\n",
    "\n",
    "            if side_effect_name == 'Alcohol':\n",
    "                alcohol_side_effect = side_effect_value\n",
    "            elif side_effect_name == 'Pregnancy':\n",
    "                pregnancy_side_effect = side_effect_value\n",
    "            elif side_effect_name == 'Breast feeding':\n",
    "                breastfeeding_side_effect = side_effect_value\n",
    "            elif side_effect_name == 'Driving':\n",
    "                driving_side_effect = side_effect_value\n",
    "            elif side_effect_name == 'Kidney':\n",
    "                kidney_side_effect = side_effect_value\n",
    "            elif side_effect_name == 'Liver':\n",
    "                liver_side_effect = side_effect_value\n",
    "    except NoSuchElementException:\n",
    "        pass\n",
    "    \n",
    "    # Price\n",
    "    price = np.nan\n",
    "    try:\n",
    "        price_element = driver.find_element_by_class_name(\"DrugPriceBox__best-price___32JXw\")\n",
    "        price = price_element.text\n",
    "        print(price)\n",
    "    except NoSuchElementException:\n",
    "        pass\n",
    "\n",
    "    # Quantity\n",
    "    qty = np.nan\n",
    "    try:\n",
    "        qty_element = driver.find_element_by_class_name(\"DrugPriceBox__quantity___2LGBX\")\n",
    "        qty = qty_element.text\n",
    "    except NoSuchElementException:\n",
    "        pass\n",
    "        \n",
    "    info = [image_link, title, description, usages, benefits, side_effects, side_common, how_it_works, alcohol_side_effect, pregnancy_side_effect, breastfeeding_side_effect,  driving_side_effect,  kidney_side_effect,  liver_side_effect, price, qty]\n",
    "    return info"
   ]
  },
  {
   "cell_type": "code",
   "execution_count": null,
   "id": "0e813fec",
   "metadata": {},
   "outputs": [],
   "source": [
    "columns = ['image_link', 'title', 'description', 'usages', 'benefits', 'side_effects', 'side_effect_common', 'how_it_works', 'alcohol_side_effect', 'pregnancy_side_effect', 'breastfeeding_side_effect',  'driving_side_effect',  'kidney_side_effect',  'liver_side_effect', 'price', 'qty', 'category', 'link']\n",
    "df_new = pd.DataFrame(columns=columns)\n",
    "flag=True\n",
    "for index, row in df_containes.iterrows():\n",
    "    url = row['link']\n",
    "    info = scrape_product_details(url, flag)\n",
    "    flag = False\n",
    "    info.append(row['category'])\n",
    "    info.append(row['link'])\n",
    "    df_new.loc[len(df_new)] = info\n",
    "df_new.to_csv(\"product_description_remaining.csv\")"
   ]
  },
  {
   "cell_type": "code",
   "execution_count": 20,
   "id": "09bd9f8c",
   "metadata": {
    "scrolled": true
   },
   "outputs": [
    {
     "ename": "NameError",
     "evalue": "name 'df_new' is not defined",
     "output_type": "error",
     "traceback": [
      "\u001b[1;31m---------------------------------------------------------------------------\u001b[0m",
      "\u001b[1;31mNameError\u001b[0m                                 Traceback (most recent call last)",
      "Input \u001b[1;32mIn [20]\u001b[0m, in \u001b[0;36m<cell line: 1>\u001b[1;34m()\u001b[0m\n\u001b[1;32m----> 1\u001b[0m \u001b[43mdf_new\u001b[49m\n",
      "\u001b[1;31mNameError\u001b[0m: name 'df_new' is not defined"
     ]
    }
   ],
   "source": [
    "df_new = df_desc"
   ]
  },
  {
   "cell_type": "code",
   "execution_count": null,
   "id": "d937a2a7",
   "metadata": {},
   "outputs": [],
   "source": [
    "df_new.isnull().sum()"
   ]
  },
  {
   "cell_type": "code",
   "execution_count": null,
   "id": "cce7c7e5",
   "metadata": {},
   "outputs": [],
   "source": [
    "df_new.shape"
   ]
  },
  {
   "cell_type": "code",
   "execution_count": null,
   "id": "2310ad9b",
   "metadata": {
    "scrolled": true
   },
   "outputs": [],
   "source": [
    "df_desc.head()"
   ]
  },
  {
   "cell_type": "code",
   "execution_count": null,
   "id": "1fb691e5",
   "metadata": {},
   "outputs": [],
   "source": [
    "df_new.shape"
   ]
  },
  {
   "cell_type": "code",
   "execution_count": null,
   "id": "c4a88165",
   "metadata": {},
   "outputs": [],
   "source": [
    "data_255_remaining = df_new.dropna(subset=['title'])"
   ]
  },
  {
   "cell_type": "code",
   "execution_count": null,
   "id": "cd21e9dd",
   "metadata": {},
   "outputs": [],
   "source": [
    "data_255_remaining.isnull().sum()"
   ]
  },
  {
   "cell_type": "code",
   "execution_count": null,
   "id": "0ecc8faf",
   "metadata": {},
   "outputs": [],
   "source": [
    "data_255_remaining.to_csv(\"data-of-remaining-products.csv\")"
   ]
  },
  {
   "cell_type": "code",
   "execution_count": null,
   "id": "a753e036",
   "metadata": {},
   "outputs": [],
   "source": [
    "data_255_remai"
   ]
  }
 ],
 "metadata": {
  "kernelspec": {
   "display_name": "Python 3 (ipykernel)",
   "language": "python",
   "name": "python3"
  },
  "language_info": {
   "codemirror_mode": {
    "name": "ipython",
    "version": 3
   },
   "file_extension": ".py",
   "mimetype": "text/x-python",
   "name": "python",
   "nbconvert_exporter": "python",
   "pygments_lexer": "ipython3",
   "version": "3.9.12"
  }
 },
 "nbformat": 4,
 "nbformat_minor": 5
}
